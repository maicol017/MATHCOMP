{
  "nbformat": 4,
  "nbformat_minor": 0,
  "metadata": {
    "colab": {
      "provenance": []
    },
    "kernelspec": {
      "name": "python3",
      "display_name": "Python 3"
    },
    "language_info": {
      "name": "python"
    }
  },
  "cells": [
    {
      "cell_type": "code",
      "execution_count": null,
      "metadata": {
        "id": "RcsJ46Uo3LPH"
      },
      "outputs": [],
      "source": [
        "# Vector Dot Product Program\n",
        "def vector_dot_product():\n",
        "    # Get the length of the vectors\n",
        "    n = int(input(\"Enter the length of the vectors: \"))\n",
        "\n",
        "    # Get the elements of the first vector\n",
        "    print(\"Enter the elements of the first vector:\")\n",
        "    vector1 = [float(input(f\"Element {i+1}: \")) for i in range(n)]\n",
        "\n",
        "    # Get the elements of the second vector\n",
        "    print(\"Enter the elements of the second vector:\")\n",
        "    vector2 = [float(input(f\"Element {i+1}: \")) for i in range(n)]\n",
        "\n",
        "    # Calculate the dot product\n",
        "    dot_product = sum(vector1[i] * vector2[i] for i in range(n))\n",
        "\n",
        "    # Display the result\n",
        "    print(f\"The dot product of the vectors is: {dot_product}\")\n",
        "\n",
        "# Run the program\n",
        "vector_dot_product()\n"
      ]
    },
    {
      "cell_type": "code",
      "source": [
        "import numpy as np\n",
        "\n",
        "# Matrix Operations Program\n",
        "def matrix_operations():\n",
        "    # Get dimensions for matrix A\n",
        "    rows_A = int(input(\"Enter the number of rows for matrix A: \"))\n",
        "    cols_A = int(input(\"Enter the number of columns for matrix A: \"))\n",
        "\n",
        "    # Get dimensions for matrix B\n",
        "    rows_B = int(input(\"Enter the number of rows for matrix B: \"))\n",
        "    cols_B = int(input(\"Enter the number of columns for matrix B: \"))\n",
        "\n",
        "    # Create matrices A and B\n",
        "    print(\"Enter the elements of matrix A:\")\n",
        "    A = np.array([[float(input(f\"Element [{i+1},{j+1}]: \")) for j in range(cols_A)] for i in range(rows_A)])\n",
        "\n",
        "    print(\"Enter the elements of matrix B:\")\n",
        "    B = np.array([[float(input(f\"Element [{i+1},{j+1}]: \")) for j in range(cols_B)] for i in range(rows_B)])\n",
        "\n",
        "    # Perform operations\n",
        "    print(\"\\nResults:\")\n",
        "\n",
        "    # a) 3A\n",
        "    print(\"3A:\")\n",
        "    print(3 * A)\n",
        "\n",
        "    # b) 4B\n",
        "    print(\"\\n4B:\")\n",
        "    print(4 * B)\n",
        "\n",
        "    # c) A + B (if dimensions match)\n",
        "    if A.shape == B.shape:\n",
        "        print(\"\\nA + B:\")\n",
        "        print(A + B)\n",
        "    else:\n",
        "        print(\"\\nA + B: Cannot be performed. Matrices have different dimensions.\")\n",
        "\n",
        "    # d) B x A (if number of columns in B matches number of rows in A)\n",
        "    if cols_B == rows_A:\n",
        "        print(\"\\nB x A:\")\n",
        "        print(np.dot(B, A))\n",
        "    else:\n",
        "        print(\"\\nB x A: Cannot be performed. The number of columns in B does not match the number of rows in A.\")\n",
        "\n",
        "# Run the program\n",
        "matrix_operations()\n"
      ],
      "metadata": {
        "id": "XBBoW33m3Opz"
      },
      "execution_count": null,
      "outputs": []
    },
    {
      "cell_type": "code",
      "source": [
        "import numpy as np\n",
        "\n",
        "def gauss_jordan_elimination():\n",
        "    # Define the augmented matrix for the given system of equations\n",
        "    # [1  0  1 |  2.5]\n",
        "    # [3  4  3 | 11.5]\n",
        "    # [4  1  0 | 15.0]\n",
        "    augmented_matrix = np.array([\n",
        "        [1, 0, 1, 2.5],\n",
        "        [3, 4, 3, 11.5],\n",
        "        [4, 1, 0, 15.0]\n",
        "    ], dtype=float)\n",
        "\n",
        "    # Number of rows\n",
        "    n = len(augmented_matrix)\n",
        "\n",
        "    # Perform Gauss-Jordan elimination\n",
        "    for i in range(n):\n",
        "        # Make the diagonal element 1\n",
        "        diag_element = augmented_matrix[i][i]\n",
        "        if diag_element == 0:\n",
        "            raise ValueError(\"Cannot proceed with Gauss-Jordan elimination: division by zero.\")\n",
        "        augmented_matrix[i] = augmented_matrix[i] / diag_element\n",
        "\n",
        "        # Make the other elements in the current column 0\n",
        "        for j in range(n):\n",
        "            if i != j:\n",
        "                factor = augmented_matrix[j][i]\n",
        "                augmented_matrix[j] = augmented_matrix[j] - factor * augmented_matrix[i]\n",
        "\n",
        "    # Extract solutions from the last column\n",
        "    solutions = augmented_matrix[:, -1]\n",
        "    return solutions\n",
        "\n",
        "# Run the Gauss-Jordan elimination function\n",
        "solutions = gauss_jordan_elimination()\n",
        "print(f\"The solutions are: x1 = {solutions[0]}, x2 = {solutions[1]}, x3 = {solutions[2]}\")\n"
      ],
      "metadata": {
        "id": "2mVfjs063Qip"
      },
      "execution_count": null,
      "outputs": []
    }
  ]
}