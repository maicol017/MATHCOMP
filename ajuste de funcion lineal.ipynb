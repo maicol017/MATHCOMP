{
  "nbformat": 4,
  "nbformat_minor": 0,
  "metadata": {
    "colab": {
      "provenance": []
    },
    "kernelspec": {
      "name": "python3",
      "display_name": "Python 3"
    },
    "language_info": {
      "name": "python"
    }
  },
  "cells": [
    {
      "cell_type": "code",
      "execution_count": 1,
      "metadata": {
        "colab": {
          "base_uri": "https://localhost:8080/"
        },
        "id": "XYz0aqz17ekA",
        "outputId": "5e1b74b2-20e5-4516-9d7c-c567ae90b23f"
      },
      "outputs": [
        {
          "output_type": "stream",
          "name": "stdout",
          "text": [
            "Función lineal: y = 4.57 + -1.35*x1 + 1.03*x2\n",
            "Coeficiente de correlación (r): 0.90\n"
          ]
        }
      ],
      "source": [
        "import numpy as np\n",
        "import pandas as pd\n",
        "from sklearn.linear_model import LinearRegression\n",
        "from scipy.stats import pearsonr\n",
        "\n",
        "# Datos de la tabla\n",
        "x1 = [1, 2, 3, 1, 2, 3]\n",
        "x2 = [-1, 0, 1, 2, 1, 0]\n",
        "y = [1.6, 3.3, 1.2, 5, 3.2, 0.01]\n",
        "\n",
        "# Crear un DataFrame\n",
        "data = pd.DataFrame({'x1': x1, 'x2': x2, 'y': y})\n",
        "\n",
        "# Variables independientes y dependiente\n",
        "X = data[['x1', 'x2']]\n",
        "y = data['y']\n",
        "\n",
        "# Ajustar el modelo de regresión lineal\n",
        "model = LinearRegression()\n",
        "model.fit(X, y)\n",
        "\n",
        "# Coeficientes de la función lineal\n",
        "coef = model.coef_\n",
        "intercept = model.intercept_\n",
        "\n",
        "print(f'Función lineal: y = {intercept:.2f} + {coef[0]:.2f}*x1 + {coef[1]:.2f}*x2')\n",
        "\n",
        "# Calcular el coeficiente de correlación\n",
        "corr, _ = pearsonr(y, model.predict(X))\n",
        "print(f'Coeficiente de correlación (r): {corr:.2f}')"
      ]
    }
  ]
}